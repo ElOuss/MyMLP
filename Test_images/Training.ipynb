{
 "cells": [
  {
   "cell_type": "code",
   "execution_count": null,
   "id": "initial_id",
   "metadata": {
    "collapsed": true,
    "ExecuteTime": {
     "end_time": "2023-09-11T18:24:59.229496Z",
     "start_time": "2023-09-11T18:24:59.227357Z"
    }
   },
   "outputs": [],
   "source": [
    "import numpy as np\n",
    "import os\n",
    "import matplotlib.pyplot as plt\n",
    "from typing import List\n",
    "import json\n",
    "from MyMLP.MyMLP import MyMLP\n"
   ]
  },
  {
   "cell_type": "code",
   "execution_count": null,
   "outputs": [],
   "source": [
    "import cv2\n",
    "import numpy as np\n",
    "from MyMLP.MyMLP import MyMLP\n",
    "\n",
    "dataset_path = '../data'\n",
    "images, labels = MyMLP.load_images(dataset_path)\n",
    "\n",
    "class_names = ['Barbe a Papa', 'Churros', 'Pomme damour']\n",
    "class_to_index = {class_name: index for index, class_name in enumerate(class_names)}\n",
    "num_classes = len(class_names)\n",
    "\n",
    "# Convertir les labels en vecteurs one-hot \n",
    "one_hot_labels = []\n",
    "for label in labels:\n",
    "    one_hot = np.zeros(num_classes)  # Initialiser un vecteur de zéros\n",
    "    one_hot[class_to_index[label]] = 1  # Placer un 1 à l'indice qui correspond au label\n",
    "    one_hot_labels.append(one_hot)\n",
    "\n",
    "one_hot_labels = np.array(one_hot_labels)\n",
    "print(one_hot_labels)\n",
    "\n",
    "desired_size = (25, 25)\n",
    "resized_images = [cv2.resize(image, desired_size) for image in images]\n",
    "\n",
    "train_images, train_labels, test_images, test_labels = MyMLP.split_dataset(resized_images, one_hot_labels, train_ratio=0.8)\n",
    "train_images = [image.flatten() for image in train_images]\n",
    "train_images = np.array(train_images)\n",
    "\n",
    "print(train_images.shape)\n"
   ],
   "metadata": {
    "collapsed": false,
    "ExecuteTime": {
     "start_time": "2023-09-11T18:24:59.228692Z"
    }
   },
   "id": "6da381df3e271134"
  },
  {
   "cell_type": "code",
   "execution_count": null,
   "outputs": [],
   "source": [
    "print(train_images[0].shape)"
   ],
   "metadata": {
    "collapsed": false,
    "ExecuteTime": {
     "end_time": "2023-09-11T18:24:59.247119Z",
     "start_time": "2023-09-11T18:24:59.246070Z"
    }
   },
   "id": "4c691824fcd6da65"
  },
  {
   "cell_type": "code",
   "execution_count": null,
   "outputs": [],
   "source": [
    "print(len(labels))"
   ],
   "metadata": {
    "collapsed": false,
    "ExecuteTime": {
     "start_time": "2023-09-11T18:24:59.246569Z"
    }
   },
   "id": "a04d15a3b9a8003b"
  },
  {
   "cell_type": "code",
   "execution_count": null,
   "outputs": [],
   "source": [
    "mlp = MyMLP([1875, 100, 3])"
   ],
   "metadata": {
    "collapsed": false,
    "ExecuteTime": {
     "end_time": "2023-09-11T18:24:59.247473Z",
     "start_time": "2023-09-11T18:24:59.247406Z"
    }
   },
   "id": "5cb441e1e9f15302"
  },
  {
   "cell_type": "code",
   "execution_count": null,
   "outputs": [],
   "source": [
    "mlp.train(train_images, train_labels, is_classification=True, iteration_count=10000, alpha=0.1)\n"
   ],
   "metadata": {
    "collapsed": false,
    "ExecuteTime": {
     "end_time": "2023-09-11T18:24:59.247611Z",
     "start_time": "2023-09-11T18:24:59.247523Z"
    }
   },
   "id": "745ff0914fff68da"
  },
  {
   "cell_type": "code",
   "execution_count": null,
   "outputs": [],
   "source": [
    "tab =(mlp.loss)\n",
    "plt.plot(range(0, len(tab) * 1000, 1000), tab)  \n",
    "plt.xlabel('Nombre d\\'itérations')\n",
    "plt.ylabel('Perte moyenne')\n",
    "plt.title('Évolution de la perte au fil des itérations')\n",
    "plt.show()"
   ],
   "metadata": {
    "collapsed": false,
    "ExecuteTime": {
     "start_time": "2023-09-11T18:24:59.247560Z"
    }
   },
   "id": "825cf0d79ff99a92"
  },
  {
   "cell_type": "code",
   "execution_count": null,
   "outputs": [],
   "source": [],
   "metadata": {
    "collapsed": false,
    "ExecuteTime": {
     "end_time": "2023-09-11T18:24:59.250097Z",
     "start_time": "2023-09-11T18:24:59.248342Z"
    }
   },
   "id": "2fb7a552e3e1d1c0"
  }
 ],
 "metadata": {
  "kernelspec": {
   "display_name": "Python 3",
   "language": "python",
   "name": "python3"
  },
  "language_info": {
   "codemirror_mode": {
    "name": "ipython",
    "version": 2
   },
   "file_extension": ".py",
   "mimetype": "text/x-python",
   "name": "python",
   "nbconvert_exporter": "python",
   "pygments_lexer": "ipython2",
   "version": "2.7.6"
  }
 },
 "nbformat": 4,
 "nbformat_minor": 5
}

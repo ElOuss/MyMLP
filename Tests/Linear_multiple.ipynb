{
 "cells": [
  {
   "cell_type": "markdown",
   "source": [
    "### Linear Multiple :\n",
    "        MLP (2, 1)   : OK"
   ],
   "metadata": {
    "collapsed": false
   },
   "id": "5df72dd38b4e738b"
  },
  {
   "cell_type": "code",
   "execution_count": 1,
   "outputs": [],
   "source": [
    "import matplotlib.pyplot as plt\n",
    "import numpy as np\n",
    "from MyMLP.MyMLP import MyMLP"
   ],
   "metadata": {
    "collapsed": false,
    "ExecuteTime": {
     "end_time": "2023-09-08T21:33:25.558558Z",
     "start_time": "2023-09-08T21:33:25.198010Z"
    }
   },
   "id": "a4d8b5322e2f30e0"
  },
  {
   "cell_type": "code",
   "execution_count": 2,
   "outputs": [],
   "source": [
    "X = np.concatenate([np.random.random((50,2)) * 0.9 + np.array([1, 1]), np.random.random((50,2)) * 0.9 + np.array([2, 2])])\n",
    "Y = np.concatenate([np.ones((50, 1)), np.ones((50, 1)) * -1.0])"
   ],
   "metadata": {
    "collapsed": false,
    "ExecuteTime": {
     "end_time": "2023-09-08T21:33:25.563724Z",
     "start_time": "2023-09-08T21:33:25.552629Z"
    }
   },
   "id": "9c7435e5cddb0614"
  },
  {
   "cell_type": "code",
   "execution_count": 3,
   "outputs": [
    {
     "data": {
      "text/plain": "<Figure size 640x480 with 1 Axes>",
      "image/png": "[encoded data removed]"
     },
     "metadata": {},
     "output_type": "display_data"
    },
    {
     "data": {
      "text/plain": "<Figure size 640x480 with 0 Axes>"
     },
     "metadata": {},
     "output_type": "display_data"
    }
   ],
   "source": [
    "plt.scatter(X[0:50, 0], X[0:50, 1], color='blue')\n",
    "plt.scatter(X[50:100,0], X[50:100,1], color='red')\n",
    "plt.show()\n",
    "plt.clf()"
   ],
   "metadata": {
    "collapsed": false,
    "ExecuteTime": {
     "end_time": "2023-09-08T21:33:25.684052Z",
     "start_time": "2023-09-08T21:33:25.556249Z"
    }
   },
   "id": "ae74da9650fad20c"
  },
  {
   "cell_type": "code",
   "execution_count": 4,
   "outputs": [],
   "source": [
    "my_mlp = MyMLP([2, 2,1])"
   ],
   "metadata": {
    "collapsed": false,
    "ExecuteTime": {
     "end_time": "2023-09-08T21:33:25.688554Z",
     "start_time": "2023-09-08T21:33:25.685235Z"
    }
   },
   "id": "55488a64de38cfb"
  },
  {
   "cell_type": "code",
   "execution_count": 6,
   "outputs": [
    {
     "ename": "TypeError",
     "evalue": "can't multiply sequence by non-int of type 'numpy.float64'",
     "output_type": "error",
     "traceback": [
      "\u001B[0;31m---------------------------------------------------------------------------\u001B[0m",
      "\u001B[0;31mTypeError\u001B[0m                                 Traceback (most recent call last)",
      "Cell \u001B[0;32mIn[6], line 10\u001B[0m\n\u001B[1;32m      8\u001B[0m X_list \u001B[38;5;241m=\u001B[39m X\u001B[38;5;241m.\u001B[39mtolist()\n\u001B[1;32m      9\u001B[0m \u001B[38;5;66;03m# Display the predicted outputs of the model\u001B[39;00m\n\u001B[0;32m---> 10\u001B[0m predicted_outputs \u001B[38;5;241m=\u001B[39m(\u001B[43mmy_mlp\u001B[49m\u001B[38;5;241;43m.\u001B[39;49m\u001B[43mpredict\u001B[49m\u001B[43m(\u001B[49m\u001B[43mX_list\u001B[49m\u001B[43m,\u001B[49m\u001B[43m \u001B[49m\u001B[43mis_classification\u001B[49m\u001B[38;5;241;43m=\u001B[39;49m\u001B[38;5;28;43;01mTrue\u001B[39;49;00m\u001B[43m)\u001B[49m)\n\u001B[1;32m     14\u001B[0m \u001B[38;5;66;03m# Calculate the loss on the test case\u001B[39;00m\n\u001B[1;32m     15\u001B[0m loss_history \u001B[38;5;241m=\u001B[39m []\n",
      "File \u001B[0;32m~/Desktop/MyMLP/MyMLP/MyMLP.py:64\u001B[0m, in \u001B[0;36mMyMLP.predict\u001B[0;34m(self, inputs, is_classification)\u001B[0m\n\u001B[1;32m     63\u001B[0m \u001B[38;5;28;01mdef\u001B[39;00m \u001B[38;5;21mpredict\u001B[39m(\u001B[38;5;28mself\u001B[39m, inputs: List[\u001B[38;5;28mfloat\u001B[39m], is_classification: \u001B[38;5;28mbool\u001B[39m):\n\u001B[0;32m---> 64\u001B[0m     \u001B[38;5;28;43mself\u001B[39;49m\u001B[38;5;241;43m.\u001B[39;49m\u001B[43m_propagate\u001B[49m\u001B[43m(\u001B[49m\u001B[43minputs\u001B[49m\u001B[43m,\u001B[49m\u001B[43m \u001B[49m\u001B[43mis_classification\u001B[49m\u001B[43m)\u001B[49m\n\u001B[1;32m     65\u001B[0m     \u001B[38;5;28;01mreturn\u001B[39;00m \u001B[38;5;28mself\u001B[39m\u001B[38;5;241m.\u001B[39mX[\u001B[38;5;28mself\u001B[39m\u001B[38;5;241m.\u001B[39mlayers][\u001B[38;5;241m1\u001B[39m:]\n",
      "File \u001B[0;32m~/Desktop/MyMLP/MyMLP/MyMLP.py:52\u001B[0m, in \u001B[0;36mMyMLP._propagate\u001B[0;34m(self, inputs, is_classification)\u001B[0m\n\u001B[1;32m     49\u001B[0m total \u001B[38;5;241m=\u001B[39m \u001B[38;5;241m0.0\u001B[39m\n\u001B[1;32m     50\u001B[0m \u001B[38;5;28;01mfor\u001B[39;00m prev_neuron \u001B[38;5;129;01min\u001B[39;00m \u001B[38;5;28mrange\u001B[39m(\u001B[38;5;241m0\u001B[39m, \u001B[38;5;28mself\u001B[39m\u001B[38;5;241m.\u001B[39mstruct[layer \u001B[38;5;241m-\u001B[39m \u001B[38;5;241m1\u001B[39m] \u001B[38;5;241m+\u001B[39m \u001B[38;5;241m1\u001B[39m):\n\u001B[1;32m     51\u001B[0m     \u001B[38;5;66;03m# Summing the weighted inputs from the previous layer\u001B[39;00m\n\u001B[0;32m---> 52\u001B[0m     total \u001B[38;5;241m+\u001B[39m\u001B[38;5;241m=\u001B[39m \u001B[38;5;28;43mself\u001B[39;49m\u001B[38;5;241;43m.\u001B[39;49m\u001B[43mweights\u001B[49m\u001B[43m[\u001B[49m\u001B[43mlayer\u001B[49m\u001B[43m]\u001B[49m\u001B[43m[\u001B[49m\u001B[43mprev_neuron\u001B[49m\u001B[43m]\u001B[49m\u001B[43m[\u001B[49m\u001B[43mneuron\u001B[49m\u001B[43m]\u001B[49m\u001B[43m \u001B[49m\u001B[38;5;241;43m*\u001B[39;49m\u001B[43m \u001B[49m\u001B[38;5;28;43mself\u001B[39;49m\u001B[38;5;241;43m.\u001B[39;49m\u001B[43mX\u001B[49m\u001B[43m[\u001B[49m\u001B[43mlayer\u001B[49m\u001B[43m \u001B[49m\u001B[38;5;241;43m-\u001B[39;49m\u001B[43m \u001B[49m\u001B[38;5;241;43m1\u001B[39;49m\u001B[43m]\u001B[49m\u001B[43m[\u001B[49m\n\u001B[1;32m     53\u001B[0m \u001B[43m        \u001B[49m\u001B[43mprev_neuron\u001B[49m\u001B[43m]\u001B[49m\n\u001B[1;32m     55\u001B[0m \u001B[38;5;66;03m# Applying the hyperbolic tangent (tanh) activation function if not in the last layer or if it's a classification task\u001B[39;00m\n\u001B[1;32m     56\u001B[0m \u001B[38;5;28;01mif\u001B[39;00m layer \u001B[38;5;241m<\u001B[39m \u001B[38;5;28mself\u001B[39m\u001B[38;5;241m.\u001B[39mlayers \u001B[38;5;129;01mor\u001B[39;00m is_classification:\n",
      "\u001B[0;31mTypeError\u001B[0m: can't multiply sequence by non-int of type 'numpy.float64'"
     ]
    }
   ],
   "source": [
    "# Create an instance of the MyMLP class\n",
    "\n",
    "\n",
    "# Train the model on the test case\n",
    "my_mlp.train(X.tolist() , Y.tolist(), is_classification=True, iteration_count=1000, alpha=0.01)\n",
    "\n",
    "# Convert X to a list of lists\n",
    "X_list = X.tolist()\n",
    "# Display the predicted outputs of the model\n",
    "predicted_outputs =(my_mlp.predict(X_list, is_classification=True))\n",
    "\n",
    "\n",
    "\n",
    "# Calculate the loss on the test case\n",
    "loss_history = []\n",
    "loss = my_mlp.calculate_loss(X_list,Y.tolist())\n",
    "loss_history.append(loss)\n",
    "print(\"Loss:\", loss)\n",
    "print(\"evolution du loss\", loss_history)\n"
   ],
   "metadata": {
    "collapsed": false,
    "ExecuteTime": {
     "end_time": "2023-09-08T21:34:29.999058Z",
     "start_time": "2023-09-08T21:34:29.928032Z"
    }
   },
   "id": "184d88a9b2046f88"
  },
  {
   "cell_type": "code",
   "execution_count": null,
   "outputs": [],
   "source": [
    "# Plot the training loss\n",
    "plt.plot(range(1000), my_mlp.loss_history)\n",
    "plt.xlabel(\"Number of iterations\")\n",
    "plt.ylabel(\"Loss\")\n",
    "plt.title(\"Training loss\")\n",
    "plt.show()\n",
    "\n",
    "# Plot the training accuracy\n",
    "plt.plot(range(1000), my_mlp.accuracy_history)\n",
    "plt.xlabel(\"Number of iterations\")\n",
    "plt.ylabel(\"Accuracy\")\n",
    "plt.title(\"Training accuracy\")\n",
    "plt.show()\n"
   ],
   "metadata": {
    "collapsed": false,
    "ExecuteTime": {
     "start_time": "2023-09-08T21:33:26.007006Z"
    }
   },
   "id": "1c19329736b79177"
  },
  {
   "cell_type": "code",
   "execution_count": null,
   "outputs": [],
   "source": [],
   "metadata": {
    "collapsed": false,
    "ExecuteTime": {
     "start_time": "2023-09-08T21:33:26.008014Z"
    }
   },
   "id": "c03a57f8ce2cb19f"
  }
 ],
 "metadata": {
  "kernelspec": {
   "display_name": "Python 3",
   "language": "python",
   "name": "python3"
  },
  "language_info": {
   "codemirror_mode": {
    "name": "ipython",
    "version": 2
   },
   "file_extension": ".py",
   "mimetype": "text/x-python",
   "name": "python",
   "nbconvert_exporter": "python",
   "pygments_lexer": "ipython2",
   "version": "2.7.6"
  }
 },
 "nbformat": 4,
 "nbformat_minor": 5
}

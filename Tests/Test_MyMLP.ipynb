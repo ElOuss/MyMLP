{
 "cells": [
  {
   "cell_type": "markdown",
   "source": [
    "# Cas de Tests"
   ],
   "metadata": {
    "collapsed": false
   },
   "id": "421c67cafc989744"
  },
  {
   "cell_type": "code",
   "execution_count": 23,
   "outputs": [],
   "source": [
    "import numpy as np\n",
    "from MyMLP.MyMLP import MyMLP\n",
    "import matplotlib.pyplot as plt"
   ],
   "metadata": {
    "collapsed": false,
    "ExecuteTime": {
     "end_time": "2023-08-24T23:32:50.467024Z",
     "start_time": "2023-08-24T23:32:50.225823Z"
    }
   },
   "id": "initial_id"
  },
  {
   "cell_type": "markdown",
   "source": [
    "\n",
    "## Classification\n"
   ],
   "metadata": {
    "collapsed": false
   },
   "id": "df82efaa586ea22"
  },
  {
   "cell_type": "markdown",
   "source": [
    "### Linear Simple : mlp(2,1)"
   ],
   "metadata": {
    "collapsed": false
   },
   "id": "d545c0790ac349a3"
  },
  {
   "cell_type": "code",
   "execution_count": 24,
   "outputs": [],
   "source": [
    "my_mlp = MyMLP([2, 1])"
   ],
   "metadata": {
    "collapsed": false,
    "ExecuteTime": {
     "end_time": "2023-08-24T23:32:51.526550Z",
     "start_time": "2023-08-24T23:32:51.525007Z"
    }
   },
   "id": "74c032127bcf19c1"
  },
  {
   "cell_type": "code",
   "execution_count": 25,
   "outputs": [],
   "source": [
    "X = np.array([\n",
    "      [1, 1],\n",
    "      [2, 3],\n",
    "      [3, 3]\n",
    "])\n",
    "Y = np.array([\n",
    "      [1],\n",
    "      [-1],\n",
    "      [-1]\n",
    "])"
   ],
   "metadata": {
    "collapsed": false,
    "ExecuteTime": {
     "end_time": "2023-08-24T23:32:51.732672Z",
     "start_time": "2023-08-24T23:32:51.728926Z"
    }
   },
   "id": "834b58ba5a26fceb"
  },
  {
   "cell_type": "code",
   "execution_count": 28,
   "outputs": [],
   "source": [
    "# Entraîner le modèle\n",
    "my_mlp.train(X, Y, is_classification=True, iteration_count=100000, alpha=0.01)\n"
   ],
   "metadata": {
    "collapsed": false,
    "ExecuteTime": {
     "end_time": "2023-08-24T23:34:35.510319Z",
     "start_time": "2023-08-24T23:34:34.686520Z"
    }
   },
   "id": "b0d151b53f4adc60"
  },
  {
   "cell_type": "code",
   "execution_count": 29,
   "outputs": [
    {
     "name": "stdout",
     "output_type": "stream",
     "text": [
      "[[0.9737764978672542], [-0.9856123592791596], [-0.9909321773179077]]\n"
     ]
    }
   ],
   "source": [
    "# Prédire les sorties pour les entrées fournies\n",
    "predictions = [my_mlp.predict(x, is_classification=True) for x in X]\n",
    "print(predictions)"
   ],
   "metadata": {
    "collapsed": false,
    "ExecuteTime": {
     "end_time": "2023-08-24T23:34:35.522712Z",
     "start_time": "2023-08-24T23:34:35.516353Z"
    }
   },
   "id": "f776ecc81f1fdeb1"
  },
  {
   "cell_type": "code",
   "execution_count": null,
   "outputs": [],
   "source": [],
   "metadata": {
    "collapsed": false
   },
   "id": "58c40185702c8e5"
  }
 ],
 "metadata": {
  "kernelspec": {
   "display_name": "Python 3",
   "language": "python",
   "name": "python3"
  },
  "language_info": {
   "codemirror_mode": {
    "name": "ipython",
    "version": 2
   },
   "file_extension": ".py",
   "mimetype": "text/x-python",
   "name": "python",
   "nbconvert_exporter": "python",
   "pygments_lexer": "ipython2",
   "version": "2.7.6"
  }
 },
 "nbformat": 4,
 "nbformat_minor": 5
}

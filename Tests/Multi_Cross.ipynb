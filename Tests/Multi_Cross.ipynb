{
 "cells": [
  {
   "cell_type": "markdown",
   "source": [
    "### Multi Cross :\n",
    "        Linear Model x3 : KO\n",
    "        MLP (2, 46, 46, 3): OK 1m alpha : 0.001"
   ],
   "metadata": {
    "collapsed": false
   },
   "id": "a981c66aaaa5957"
  },
  {
   "cell_type": "code",
   "execution_count": null,
   "outputs": [],
   "source": [
    "import matplotlib.pyplot as plt\n",
    "import numpy as np\n",
    "from MyMLP.MyMLP import MyMLP"
   ],
   "metadata": {
    "collapsed": false,
    "is_executing": true
   },
   "id": "44ebcdf4cfddfd01"
  },
  {
   "cell_type": "code",
   "execution_count": null,
   "outputs": [],
   "source": [
    "X = np.random.random((1000, 2)) * 2.0 - 1.0\n",
    "Y = np.array([[1, 0, 0] if abs(p[0] % 0.5) <= 0.25 and abs(p[1] % 0.5) > 0.25 else [0, 1, 0] if abs(p[0] % 0.5) > 0.25 and abs(p[1] % 0.5) <= 0.25 else [0, 0, 1] for p in X])"
   ],
   "metadata": {
    "collapsed": false,
    "is_executing": true
   },
   "id": "b7d385711006b54f"
  },
  {
   "cell_type": "code",
   "execution_count": null,
   "outputs": [],
   "source": [
    "plt.scatter(np.array(list(map(lambda elt : elt[1], filter(lambda c: Y[c[0]][0] == 1, enumerate(X)))))[:,0], np.array(list(map(lambda elt : elt[1], filter(lambda c: Y[c[0]][0] == 1, enumerate(X)))))[:,1], color='blue')\n",
    "plt.scatter(np.array(list(map(lambda elt : elt[1], filter(lambda c: Y[c[0]][1] == 1, enumerate(X)))))[:,0], np.array(list(map(lambda elt : elt[1], filter(lambda c: Y[c[0]][1] == 1, enumerate(X)))))[:,1], color='red')\n",
    "plt.scatter(np.array(list(map(lambda elt : elt[1], filter(lambda c: Y[c[0]][2] == 1, enumerate(X)))))[:,0], np.array(list(map(lambda elt : elt[1], filter(lambda c: Y[c[0]][2] == 1, enumerate(X)))))[:,1], color='green')\n",
    "plt.show()\n",
    "plt.clf()"
   ],
   "metadata": {
    "collapsed": false,
    "is_executing": true
   },
   "id": "241bbb8c8543c82d"
  },
  {
   "cell_type": "code",
   "execution_count": null,
   "outputs": [],
   "source": [
    "my_mlp = MyMLP([2,50,50,3])"
   ],
   "metadata": {
    "collapsed": false,
    "is_executing": true
   },
   "id": "92bc950ffbe2377c"
  },
  {
   "cell_type": "code",
   "execution_count": null,
   "outputs": [],
   "source": [
    "my_mlp.train(X , Y, is_classification=True, iteration_count=1000000, alpha=0.001)\n",
    "\n",
    "predictions =[my_mlp.predict(x, is_classification=True) for x in X]\n",
    "print(predictions)\n",
    "accuracy = my_mlp.calculate_accuracy_multi_class(X,Y)\n",
    "print(accuracy)\n"
   ],
   "metadata": {
    "collapsed": false,
    "is_executing": true
   },
   "id": "354ea4a771037556"
  },
  {
   "cell_type": "code",
   "execution_count": null,
   "outputs": [],
   "source": [
    "x_min, x_max = -1., 1.\n",
    "y_min, y_max = -1., 1.\n",
    "step = 0.01\n",
    "xx, yy = np.meshgrid(np.arange(x_min, x_max, step), np.arange(y_min, y_max, step))\n",
    "gridpoints = np.c_[xx.ravel(), yy.ravel()]\n",
    "\n",
    "output_ptr =  [my_mlp.predict(x, is_classification=True) for x in gridpoints]\n",
    "output_ptr = np.array(output_ptr)\n",
    "\n",
    "plt.scatter(X[:, 0], X[:, 1], c=np.argmax(Y, axis=1))\n",
    "\n",
    "contour = np.argmax(output_ptr, axis=1).reshape(xx.shape)\n",
    "plt.contourf(xx, yy, contour, levels=[-np.inf, 0.5, 1.5, np.inf], colors=['blue', 'green', 'red'],\n",
    "             alpha=0.5)\n",
    "\n",
    "plt.show()"
   ],
   "metadata": {
    "collapsed": false,
    "is_executing": true
   },
   "id": "3918e94f2d917410"
  },
  {
   "cell_type": "code",
   "execution_count": null,
   "outputs": [],
   "source": [
    "tab =(my_mlp.loss)\n",
    "plt.plot(range(0, len(tab) * 1000, 1000), tab)  # Utilisez len(tab) pour déterminer la longueur correcte de l'axe x\n",
    "plt.xlabel('Nombre d\\'itérations')\n",
    "plt.ylabel('Perte moyenne')\n",
    "plt.title('Évolution de la perte au fil des itérations')\n",
    "plt.show()"
   ],
   "metadata": {
    "collapsed": false,
    "is_executing": true
   },
   "id": "a1f472b31b406c2b"
  },
  {
   "cell_type": "code",
   "execution_count": null,
   "outputs": [],
   "source": [
    "tab =(my_mlp.loss)\n",
    "plt.plot(range(0, len(tab) * 1000, 1000), tab)  \n",
    "plt.xlabel('Nombre d\\'itérations')\n",
    "plt.ylabel('Perte moyenne')\n",
    "plt.title('Évolution de la perte au fil des itérations')\n",
    "plt.show()\n",
    "#title"
   ],
   "metadata": {
    "collapsed": false,
    "is_executing": true
   },
   "id": "b385f6ba31eaeb25"
  },
  {
   "cell_type": "code",
   "execution_count": null,
   "outputs": [],
   "source": [],
   "metadata": {
    "collapsed": false,
    "is_executing": true
   },
   "id": "14a79d420cd0eb7b"
  }
 ],
 "metadata": {
  "kernelspec": {
   "display_name": "Python 3",
   "language": "python",
   "name": "python3"
  },
  "language_info": {
   "codemirror_mode": {
    "name": "ipython",
    "version": 2
   },
   "file_extension": ".py",
   "mimetype": "text/x-python",
   "name": "python",
   "nbconvert_exporter": "python",
   "pygments_lexer": "ipython2",
   "version": "2.7.6"
  }
 },
 "nbformat": 4,
 "nbformat_minor": 5
}
